{
 "cells": [
  {
   "cell_type": "markdown",
   "id": "38ede068-854b-476e-b0e0-c0b585a9d311",
   "metadata": {},
   "source": [
    "# INFO 498 Final Project\n",
    "\n",
    "### Train data statistics"
   ]
  },
  {
   "cell_type": "markdown",
   "id": "3663e76f-7650-4a0d-81c8-256e03402b6f",
   "metadata": {},
   "source": [
    "YelpNLG: Review Corpus for NLG\n",
    "\r",
    " [Curate and Generate: A Corpus and Method for Joint Control of Semantics and Style in Neural NLG](https://aclanthology.org/P19-1596) (Oraby et al., ACL 2019)"
   ]
  },
  {
   "cell_type": "code",
   "execution_count": 3,
   "id": "1cd31d5d-0e4a-4ebe-841c-6311a23ab027",
   "metadata": {},
   "outputs": [
    {
     "data": {
      "text/html": [
       "<div>\n",
       "<style scoped>\n",
       "    .dataframe tbody tr th:only-of-type {\n",
       "        vertical-align: middle;\n",
       "    }\n",
       "\n",
       "    .dataframe tbody tr th {\n",
       "        vertical-align: top;\n",
       "    }\n",
       "\n",
       "    .dataframe thead th {\n",
       "        text-align: right;\n",
       "    }\n",
       "</style>\n",
       "<table border=\"1\" class=\"dataframe\">\n",
       "  <thead>\n",
       "    <tr style=\"text-align: right;\">\n",
       "      <th></th>\n",
       "      <th>id</th>\n",
       "      <th>ref</th>\n",
       "      <th>mr</th>\n",
       "      <th>sentiment</th>\n",
       "      <th>length</th>\n",
       "      <th>first_person</th>\n",
       "      <th>exclamation</th>\n",
       "    </tr>\n",
       "  </thead>\n",
       "  <tbody>\n",
       "    <tr>\n",
       "      <th>0</th>\n",
       "      <td>0</td>\n",
       "      <td>best corn beef and pastrami combo sandwich and...</td>\n",
       "      <td>food||corn_beef||amazing||mention_1 food||past...</td>\n",
       "      <td>positive</td>\n",
       "      <td>len_medium</td>\n",
       "      <td>not_first_person</td>\n",
       "      <td>has_exclamation</td>\n",
       "    </tr>\n",
       "    <tr>\n",
       "      <th>1</th>\n",
       "      <td>1</td>\n",
       "      <td>\"he said it did not taste good , and it appear...</td>\n",
       "      <td>food||tomato||canned||mention_1 food||onion||n...</td>\n",
       "      <td>negative</td>\n",
       "      <td>len_long</td>\n",
       "      <td>not_first_person</td>\n",
       "      <td>no_exclamation</td>\n",
       "    </tr>\n",
       "    <tr>\n",
       "      <th>2</th>\n",
       "      <td>2</td>\n",
       "      <td>i usually get the dal gal bee chicken dish tha...</td>\n",
       "      <td>food||dal_gal_bee_chicken_dish||no_adj||mentio...</td>\n",
       "      <td>neutral</td>\n",
       "      <td>len_medium</td>\n",
       "      <td>first_person</td>\n",
       "      <td>no_exclamation</td>\n",
       "    </tr>\n",
       "    <tr>\n",
       "      <th>3</th>\n",
       "      <td>3</td>\n",
       "      <td>\"the pho was very flavourful , good firm rice ...</td>\n",
       "      <td>food||pho||flavourful||mention_1 food||firm_ri...</td>\n",
       "      <td>positive</td>\n",
       "      <td>len_long</td>\n",
       "      <td>not_first_person</td>\n",
       "      <td>no_exclamation</td>\n",
       "    </tr>\n",
       "    <tr>\n",
       "      <th>4</th>\n",
       "      <td>4</td>\n",
       "      <td>\"the spices they use to fry their chicken are ...</td>\n",
       "      <td>food||spices||no_adj||mention_1 food||fry||no_...</td>\n",
       "      <td>positive</td>\n",
       "      <td>len_long</td>\n",
       "      <td>not_first_person</td>\n",
       "      <td>no_exclamation</td>\n",
       "    </tr>\n",
       "  </tbody>\n",
       "</table>\n",
       "</div>"
      ],
      "text/plain": [
       "   id                                                ref  \\\n",
       "0   0  best corn beef and pastrami combo sandwich and...   \n",
       "1   1  \"he said it did not taste good , and it appear...   \n",
       "2   2  i usually get the dal gal bee chicken dish tha...   \n",
       "3   3  \"the pho was very flavourful , good firm rice ...   \n",
       "4   4  \"the spices they use to fry their chicken are ...   \n",
       "\n",
       "                                                  mr sentiment      length  \\\n",
       "0  food||corn_beef||amazing||mention_1 food||past...  positive  len_medium   \n",
       "1  food||tomato||canned||mention_1 food||onion||n...  negative    len_long   \n",
       "2  food||dal_gal_bee_chicken_dish||no_adj||mentio...   neutral  len_medium   \n",
       "3  food||pho||flavourful||mention_1 food||firm_ri...  positive    len_long   \n",
       "4  food||spices||no_adj||mention_1 food||fry||no_...  positive    len_long   \n",
       "\n",
       "       first_person      exclamation  \n",
       "0  not_first_person  has_exclamation  \n",
       "1  not_first_person   no_exclamation  \n",
       "2      first_person   no_exclamation  \n",
       "3  not_first_person   no_exclamation  \n",
       "4  not_first_person   no_exclamation  "
      ]
     },
     "metadata": {},
     "output_type": "display_data"
    }
   ],
   "source": [
    "# load dataset\n",
    "import pandas as pd\n",
    "\n",
    "df_train = pd.read_csv('data/yelpnlg-train.csv')\n",
    "\n",
    "display(df_train.head())"
   ]
  },
  {
   "cell_type": "markdown",
   "id": "a8595b36-b771-48bc-9917-e06a5b1c8d21",
   "metadata": {},
   "source": [
    "#### Columns Described\n",
    "\n",
    "* id - A sequential identifier of the instance in that split.\n",
    "* ref - The reference text (review sentence) for that instance.\n",
    "* mr - The meaning representation (mr) for that instance. Each MR is a set of space-separated tuples, and each is tuple\n",
    "is divided with \"||\" separators. Each tuple contains the following information (in this order):\n",
    "    * attribute - one of: {\"restaurant\", \"cuisine\", \"food\", \"service\", \"staff\", \"ambiance\", \"price\"}\n",
    "    * value - any value (from attribute lexicons)\n",
    "    * adjective - any adjective (from sentence dependency parse), else \"no_adj\" if none is available/retrievable in the parse\n",
    "    * mention - mention_N (N indicates which mention is being referenced, i.e. 1 for first mention, 2 for second mention, etc.)\n",
    "* sentiment - \"positive\" (4-5 stars), \"neutral\" (3 stars), \"negative\" (1-2 stars)\n",
    "* length - \"len_short\" (4-10 tokens), \"len_medium\" (10-20 tokens), \"len_long\" (20-30 tokens)\n",
    "* first_person - \"first_person\" (includes a first person pronoun: {\"i\", \"my\", \"me\", \"our\", \"we\", \"us\"}), \"not_first_person\" (does not include any first person pronouns)\n",
    "* exclamation - \"has_exclamation\" (include an exclamation mark), \"no_exclamation\" (does not include an exclamation mark)"
   ]
  },
  {
   "cell_type": "code",
   "execution_count": 5,
   "id": "a56ef747-4ae1-47f8-b8c2-418dae9b65e7",
   "metadata": {},
   "outputs": [
    {
     "name": "stdout",
     "output_type": "stream",
     "text": [
      "total reviews: 235426\n",
      "\n",
      "total sentiments: {'positive': 146760, 'negative': 48372, 'neutral': 40294}\n",
      "\n",
      "total lengths: {'short': 22054, 'medium': 116972, 'long': 96400}\n",
      "shortest review by tokens: 15\n",
      "longest review by tokens: 245\n",
      "\n",
      "total pov's: {'first person': 118552, 'not first person': 116874}\n",
      "\n",
      "total exclamations: {'exclamation': 19244, 'no exclamation': 216181}\n"
     ]
    }
   ],
   "source": [
    "# total reviews\n",
    "total_reviews = len(df_train)\n",
    "\n",
    "# total amount of each sentiment\n",
    "sentiments = {'positive': 0, 'negative': 0, 'neutral': 0}\n",
    "\n",
    "for sentiment in df_train['sentiment']:\n",
    "    # check for positive\n",
    "    if sentiment == 'positive':\n",
    "        sentiments[sentiment] += 1\n",
    "    # check for negative\n",
    "    elif sentiment == 'negative':\n",
    "        sentiments[sentiment] += 1\n",
    "    # check for neutral\n",
    "    elif sentiment == 'neutral':\n",
    "        sentiments[sentiment] += 1\n",
    "\n",
    "# total amount of each length of review\n",
    "total_lengths = {'short': 0, 'medium': 0, 'long': 0}\n",
    "\n",
    "for length in df_train['length']:\n",
    "    # check for short\n",
    "    if length == 'len_short':\n",
    "        total_lengths['short'] += 1\n",
    "    # check for medium\n",
    "    if length == 'len_medium':\n",
    "        total_lengths['medium'] += 1\n",
    "    # check for long\n",
    "    if length == 'len_long':\n",
    "        total_lengths['long'] += 1\n",
    "\n",
    "# longest and shortest review\n",
    "shortest = float('inf')\n",
    "longest = 0\n",
    "\n",
    "for review in df_train['ref']:\n",
    "    review_len = len(review)\n",
    "    # find shortest\n",
    "    if review_len < shortest:\n",
    "        shortest = review_len\n",
    "    # find longest\n",
    "    if review_len > longest:\n",
    "        longest = review_len\n",
    "\n",
    "# first person/non first person totals\n",
    "pov_totals = {'first person': 0, 'not first person': 0}\n",
    "\n",
    "for pov in df_train['first_person']:\n",
    "    # check for first\n",
    "    if pov == 'first_person':\n",
    "        pov_totals['first person'] += 1\n",
    "    # check for non first\n",
    "    if pov == 'not_first_person':\n",
    "        pov_totals['not first person'] += 1\n",
    "\n",
    "# exclamation vs no exclamation\n",
    "exclamation_totals = {'exclamation': 0, 'no exclamation': 0}\n",
    "\n",
    "for exclamation in df_train['exclamation']:\n",
    "    # check for exclamation\n",
    "    if exclamation == 'has_exclamation':\n",
    "        exclamation_totals['exclamation'] += 1\n",
    "    # check for no exclamation\n",
    "    if exclamation == 'no_exclamation':\n",
    "        exclamation_totals['no exclamation'] += 1\n",
    "\n",
    "# print review total\n",
    "print('total reviews:', total_reviews)\n",
    "print()\n",
    "\n",
    "# print sentiment totals\n",
    "print('total sentiments:', sentiments)\n",
    "print()\n",
    "\n",
    "# print review lengths\n",
    "print('total lengths:', total_lengths)\n",
    "print('shortest review by tokens:', shortest)\n",
    "print('longest review by tokens:', longest)\n",
    "print()\n",
    "\n",
    "# print pov totals\n",
    "print(\"total pov's:\", pov_totals)\n",
    "print()\n",
    "\n",
    "# print exclamation totals\n",
    "print('total exclamations:', exclamation_totals)"
   ]
  },
  {
   "cell_type": "markdown",
   "id": "a15d75b9-c640-4c22-869b-0397a65bb90f",
   "metadata": {},
   "source": [
    "## Sentiment Analysis (Yelp corpus)\n",
    "### Logistic Regression on TF-IDF \n",
    "\n",
    "#### Train split"
   ]
  },
  {
   "cell_type": "code",
   "execution_count": 7,
   "id": "d8ee154c-be3c-4ea9-b9ea-682dac8d70bd",
   "metadata": {},
   "outputs": [
    {
     "data": {
      "text/plain": [
       "sentiment\n",
       "positive    146760\n",
       "negative     48372\n",
       "Name: count, dtype: int64"
      ]
     },
     "execution_count": 7,
     "metadata": {},
     "output_type": "execute_result"
    }
   ],
   "source": [
    "# remove neutral instances\n",
    "df_train = df_train[df_train.sentiment != 'neutral']\n",
    "\n",
    "# print number of instances per sentiment\n",
    "df_train.sentiment.value_counts()"
   ]
  },
  {
   "cell_type": "code",
   "execution_count": 8,
   "id": "3852f741-8425-48d7-aa62-64454f584276",
   "metadata": {},
   "outputs": [
    {
     "name": "stdout",
     "output_type": "stream",
     "text": [
      "(195132, 28529)\n",
      "  (0, 2607)\t0.2904350525282116\n",
      "  (0, 6133)\t0.33553699202660175\n",
      "  (0, 2442)\t0.15885889934521094\n",
      "  (0, 1267)\t0.17441650614580462\n",
      "  (0, 18287)\t0.4336225600051432\n",
      "  (0, 5673)\t0.32772989453655493\n",
      "  (0, 21688)\t0.24482054633881892\n",
      "  (0, 25457)\t0.0824516487551533\n",
      "  (0, 5391)\t0.4283067741997713\n",
      "  (0, 12789)\t0.1861706339206054\n",
      "  (0, 1163)\t0.2870923735643336\n",
      "  (0, 25912)\t0.29104317273961317\n"
     ]
    }
   ],
   "source": [
    "from sklearn.feature_extraction.text import TfidfVectorizer\n",
    "\n",
    "# Use the tf-idf vectorizer to convert all texts into weighted vectors\n",
    "\n",
    "# fit vectorizer on training data\n",
    "tfidf_vectorizer = TfidfVectorizer()\n",
    "train_tfidf_vectors = tfidf_vectorizer.fit_transform(df_train.ref)\n",
    "print(train_tfidf_vectors.shape)\n",
    "print(train_tfidf_vectors[0]) "
   ]
  },
  {
   "cell_type": "code",
   "execution_count": 9,
   "id": "88a99a6c-72e0-4f13-b915-2a710c744fdc",
   "metadata": {},
   "outputs": [
    {
     "name": "stdout",
     "output_type": "stream",
     "text": [
      "[1, 0, 1, 1, 1, 1, 1, 1, 1, 1]\n"
     ]
    }
   ],
   "source": [
    "# convert the labels into 1s (positive sentiment) and 0s (negative sentiment)\n",
    "\n",
    "labels = df_train.sentiment\n",
    "labels_binary = [1 if l == 'positive' else 0 for l in labels]\n",
    "\n",
    "print(labels_binary[:10])"
   ]
  },
  {
   "cell_type": "code",
   "execution_count": 10,
   "id": "c83ddb21-1380-4292-bee9-06af71de179d",
   "metadata": {},
   "outputs": [
    {
     "name": "stdout",
     "output_type": "stream",
     "text": [
      "Tfidf vectors (train split) P/R/A/F1: 0.865, 0.953, 0.853, 0.907\n"
     ]
    }
   ],
   "source": [
    "# training logistic regression classifier on train data vectors\n",
    "\n",
    "from sklearn.linear_model import LogisticRegression\n",
    "from sklearn.metrics import accuracy_score, precision_score, recall_score, f1_score, confusion_matrix\n",
    "\n",
    "lr_tfidf = LogisticRegression(max_iter=500)\n",
    "lr_tfidf.fit(train_tfidf_vectors, labels_binary)\n",
    "\n",
    "labels_tfidf_predicted_train = lr_tfidf.predict(train_tfidf_vectors)\n",
    "\n",
    "# compute precision, recall, accuracy, f1 \n",
    "\n",
    "precision = precision_score(labels_binary, labels_tfidf_predicted_train)\n",
    "recall = recall_score(labels_binary, labels_tfidf_predicted_train)\n",
    "accuracy = accuracy_score(labels_binary, labels_tfidf_predicted_train)\n",
    "f1 = f1_score(labels_binary, labels_tfidf_predicted_train)\n",
    "\n",
    "print(\"Tfidf vectors (train split) P/R/A/F1: {:.3f}, {:.3f}, {:.3f}, {:.3f}\".format(precision, recall, accuracy, f1))"
   ]
  },
  {
   "cell_type": "markdown",
   "id": "9c18a1e0-c483-4897-90aa-2e488b437fb4",
   "metadata": {},
   "source": [
    "#### Test split"
   ]
  },
  {
   "cell_type": "code",
   "execution_count": 12,
   "id": "97987ff4-9412-4c30-abe3-7845f7023c87",
   "metadata": {},
   "outputs": [
    {
     "data": {
      "text/html": [
       "<div>\n",
       "<style scoped>\n",
       "    .dataframe tbody tr th:only-of-type {\n",
       "        vertical-align: middle;\n",
       "    }\n",
       "\n",
       "    .dataframe tbody tr th {\n",
       "        vertical-align: top;\n",
       "    }\n",
       "\n",
       "    .dataframe thead th {\n",
       "        text-align: right;\n",
       "    }\n",
       "</style>\n",
       "<table border=\"1\" class=\"dataframe\">\n",
       "  <thead>\n",
       "    <tr style=\"text-align: right;\">\n",
       "      <th></th>\n",
       "      <th>id</th>\n",
       "      <th>ref</th>\n",
       "      <th>mr</th>\n",
       "      <th>sentiment</th>\n",
       "      <th>length</th>\n",
       "      <th>first_person</th>\n",
       "      <th>exclamation</th>\n",
       "    </tr>\n",
       "  </thead>\n",
       "  <tbody>\n",
       "    <tr>\n",
       "      <th>0</th>\n",
       "      <td>0</td>\n",
       "      <td>we finally received the chicken and bread afte...</td>\n",
       "      <td>food||chicken||no_adj||mention_1 food||bread||...</td>\n",
       "      <td>negative</td>\n",
       "      <td>len_medium</td>\n",
       "      <td>first_person</td>\n",
       "      <td>no_exclamation</td>\n",
       "    </tr>\n",
       "    <tr>\n",
       "      <th>1</th>\n",
       "      <td>1</td>\n",
       "      <td>\"on my second visit , i tried the beef okonomi...</td>\n",
       "      <td>food||beef_okonomiyaki||no_adj||mention_1 food...</td>\n",
       "      <td>positive</td>\n",
       "      <td>len_long</td>\n",
       "      <td>first_person</td>\n",
       "      <td>no_exclamation</td>\n",
       "    </tr>\n",
       "    <tr>\n",
       "      <th>2</th>\n",
       "      <td>2</td>\n",
       "      <td>\"chicken soup with a thigh of chicken and big ...</td>\n",
       "      <td>food||chicken_soup||no_adj||mention_1 food||ch...</td>\n",
       "      <td>positive</td>\n",
       "      <td>len_long</td>\n",
       "      <td>not_first_person</td>\n",
       "      <td>has_exclamation</td>\n",
       "    </tr>\n",
       "  </tbody>\n",
       "</table>\n",
       "</div>"
      ],
      "text/plain": [
       "   id                                                ref  \\\n",
       "0   0  we finally received the chicken and bread afte...   \n",
       "1   1  \"on my second visit , i tried the beef okonomi...   \n",
       "2   2  \"chicken soup with a thigh of chicken and big ...   \n",
       "\n",
       "                                                  mr sentiment      length  \\\n",
       "0  food||chicken||no_adj||mention_1 food||bread||...  negative  len_medium   \n",
       "1  food||beef_okonomiyaki||no_adj||mention_1 food...  positive    len_long   \n",
       "2  food||chicken_soup||no_adj||mention_1 food||ch...  positive    len_long   \n",
       "\n",
       "       first_person      exclamation  \n",
       "0      first_person   no_exclamation  \n",
       "1      first_person   no_exclamation  \n",
       "2  not_first_person  has_exclamation  "
      ]
     },
     "execution_count": 12,
     "metadata": {},
     "output_type": "execute_result"
    }
   ],
   "source": [
    "df_test = pd.read_csv('data/yelpnlg-test.csv')\n",
    "df_test.head(3)"
   ]
  },
  {
   "cell_type": "code",
   "execution_count": 13,
   "id": "cc0de56b-5603-4af3-88f6-2a00c0b71700",
   "metadata": {},
   "outputs": [
    {
     "data": {
      "text/plain": [
       "sentiment\n",
       "positive    18233\n",
       "negative     6059\n",
       "Name: count, dtype: int64"
      ]
     },
     "execution_count": 13,
     "metadata": {},
     "output_type": "execute_result"
    }
   ],
   "source": [
    "# remove neutral instances\n",
    "df_test = df_test[df_test.sentiment != 'neutral']\n",
    "\n",
    "# print number of instances per sentiment\n",
    "df_test.sentiment.value_counts()"
   ]
  },
  {
   "cell_type": "code",
   "execution_count": 14,
   "id": "e371268d-a69f-4f4b-af17-29eb5ef678eb",
   "metadata": {},
   "outputs": [
    {
     "name": "stdout",
     "output_type": "stream",
     "text": [
      "[0, 1, 1, 1, 1, 1, 1, 1, 0, 0]\n"
     ]
    }
   ],
   "source": [
    "# fit test data using train vectorizer\n",
    "\n",
    "test_tfidf_vectors = tfidf_vectorizer.transform(df_test['ref'])\n",
    "\n",
    "# convert the labels into 1s (positive sentiment) and 0s (negative sentiment)\n",
    "\n",
    "labels_test = df_test.sentiment\n",
    "labels_binary_test = [1 if l == 'positive' else 0 for l in labels_test]\n",
    "\n",
    "print(labels_binary_test[:10])"
   ]
  },
  {
   "cell_type": "code",
   "execution_count": 15,
   "id": "754a87a1-bb4c-4d66-a3e0-3a91de8dc257",
   "metadata": {},
   "outputs": [
    {
     "name": "stdout",
     "output_type": "stream",
     "text": [
      "Tfidf vectors (test split) P/R/A/F1: 0.859, 0.945, 0.842, 0.900\n"
     ]
    }
   ],
   "source": [
    "# predict on test data\n",
    "\n",
    "labels_tfidf_predicted_test = lr_tfidf.predict(test_tfidf_vectors)\n",
    "\n",
    "# compute precision, recall, accuracy, f1\n",
    "\n",
    "precision_test = precision_score(labels_binary_test, labels_tfidf_predicted_test)\n",
    "recall_test = recall_score(labels_binary_test, labels_tfidf_predicted_test)\n",
    "accuracy_test = accuracy_score(labels_binary_test, labels_tfidf_predicted_test)\n",
    "f1_test = f1_score(labels_binary_test, labels_tfidf_predicted_test)\n",
    "\n",
    "print(\"Tfidf vectors (test split) P/R/A/F1: {:.3f}, {:.3f}, {:.3f}, {:.3f}\".format(precision_test, recall_test, accuracy_test, f1_test))"
   ]
  },
  {
   "cell_type": "code",
   "execution_count": 16,
   "id": "36594aa7-0cd2-4c42-a8bf-ca33ab34e8b6",
   "metadata": {},
   "outputs": [
    {
     "name": "stdout",
     "output_type": "stream",
     "text": [
      "[[17236   997]\n",
      " [ 2832  3227]]\n"
     ]
    }
   ],
   "source": [
    "from sklearn.metrics import confusion_matrix\n",
    "\n",
    "cm = confusion_matrix(labels_binary_test, labels_tfidf_predicted_test, labels=[1, 0]) \n",
    "print(cm)"
   ]
  },
  {
   "cell_type": "code",
   "execution_count": 17,
   "id": "dbde134a-c935-4481-9638-c7020669d352",
   "metadata": {
    "jp-MarkdownHeadingCollapsed": true
   },
   "outputs": [
    {
     "name": "stdout",
     "output_type": "stream",
     "text": [
      "Tfidf vectors (train split) P/R/A/F1: 0.865, 0.953, 0.853, 0.907\n",
      "Tfidf vectors (test split) P/R/A/F1: 0.859, 0.945, 0.842, 0.900\n"
     ]
    }
   ],
   "source": [
    "print(\"Tfidf vectors (train split) P/R/A/F1: {:.3f}, {:.3f}, {:.3f}, {:.3f}\".format(precision, recall, accuracy, f1))\n",
    "print(\"Tfidf vectors (test split) P/R/A/F1: {:.3f}, {:.3f}, {:.3f}, {:.3f}\".format(precision_test, recall_test, accuracy_test, f1_test))"
   ]
  },
  {
   "cell_type": "markdown",
   "id": "16bdade4-1143-46c4-b612-5166ad53d52f",
   "metadata": {},
   "source": [
    "Analysis\n",
    "\n",
    "The performance on the training set is slightly better than the test set. The slight drop in performance on the test split suggests that the model is not overfitting very much. Both the train and test models have good precision (high rate of predicting positive correctly). Both models also have very high recall scores, meaning the models are effective in identifying all actual true positive cases. The high F1 score for each model shows a good balance of precision and recall. The decently high accuracy for each model suggests that the model is effectively classifying the sentiment."
   ]
  },
  {
   "cell_type": "markdown",
   "id": "32d70fbd-f240-441a-b4d6-548bec713251",
   "metadata": {},
   "source": [
    "## Yelp Business and Reviews"
   ]
  },
  {
   "cell_type": "markdown",
   "id": "a7d3a2ab-1078-423d-8619-62ced3c6c83c",
   "metadata": {},
   "source": [
    "### Cleaning and combining datasets"
   ]
  },
  {
   "cell_type": "code",
   "execution_count": 21,
   "id": "a29b4ba5-4e7d-42f3-af40-a3982fe849fb",
   "metadata": {},
   "outputs": [],
   "source": [
    "# load business and review datasets\n",
    "df_yelp_business = pd.read_csv('data/yelp_business.csv')\n",
    "df_yelp_review = pd.read_csv('data/yelp_review.csv')"
   ]
  },
  {
   "cell_type": "code",
   "execution_count": 22,
   "id": "fa3d4e48-62e1-4b4f-a6a6-08d0b8929e52",
   "metadata": {},
   "outputs": [
    {
     "data": {
      "text/html": [
       "<div>\n",
       "<style scoped>\n",
       "    .dataframe tbody tr th:only-of-type {\n",
       "        vertical-align: middle;\n",
       "    }\n",
       "\n",
       "    .dataframe tbody tr th {\n",
       "        vertical-align: top;\n",
       "    }\n",
       "\n",
       "    .dataframe thead th {\n",
       "        text-align: right;\n",
       "    }\n",
       "</style>\n",
       "<table border=\"1\" class=\"dataframe\">\n",
       "  <thead>\n",
       "    <tr style=\"text-align: right;\">\n",
       "      <th></th>\n",
       "      <th>business_id</th>\n",
       "      <th>name</th>\n",
       "      <th>neighborhood</th>\n",
       "      <th>address</th>\n",
       "      <th>city</th>\n",
       "      <th>state</th>\n",
       "      <th>postal_code</th>\n",
       "      <th>latitude</th>\n",
       "      <th>longitude</th>\n",
       "      <th>stars</th>\n",
       "      <th>review_count</th>\n",
       "      <th>is_open</th>\n",
       "      <th>categories</th>\n",
       "    </tr>\n",
       "  </thead>\n",
       "  <tbody>\n",
       "    <tr>\n",
       "      <th>0</th>\n",
       "      <td>FYWN1wneV18bWNgQjJ2GNg</td>\n",
       "      <td>\"Dental by Design\"</td>\n",
       "      <td>NaN</td>\n",
       "      <td>\"4855 E Warner Rd, Ste B9\"</td>\n",
       "      <td>Ahwatukee</td>\n",
       "      <td>AZ</td>\n",
       "      <td>85044</td>\n",
       "      <td>33.330690</td>\n",
       "      <td>-111.978599</td>\n",
       "      <td>4.0</td>\n",
       "      <td>22</td>\n",
       "      <td>1</td>\n",
       "      <td>Dentists;General Dentistry;Health &amp; Medical;Or...</td>\n",
       "    </tr>\n",
       "    <tr>\n",
       "      <th>1</th>\n",
       "      <td>He-G7vWjzVUysIKrfNbPUQ</td>\n",
       "      <td>\"Stephen Szabo Salon\"</td>\n",
       "      <td>NaN</td>\n",
       "      <td>\"3101 Washington Rd\"</td>\n",
       "      <td>McMurray</td>\n",
       "      <td>PA</td>\n",
       "      <td>15317</td>\n",
       "      <td>40.291685</td>\n",
       "      <td>-80.104900</td>\n",
       "      <td>3.0</td>\n",
       "      <td>11</td>\n",
       "      <td>1</td>\n",
       "      <td>Hair Stylists;Hair Salons;Men's Hair Salons;Bl...</td>\n",
       "    </tr>\n",
       "    <tr>\n",
       "      <th>2</th>\n",
       "      <td>KQPW8lFf1y5BT2MxiSZ3QA</td>\n",
       "      <td>\"Western Motor Vehicle\"</td>\n",
       "      <td>NaN</td>\n",
       "      <td>\"6025 N 27th Ave, Ste 1\"</td>\n",
       "      <td>Phoenix</td>\n",
       "      <td>AZ</td>\n",
       "      <td>85017</td>\n",
       "      <td>33.524903</td>\n",
       "      <td>-112.115310</td>\n",
       "      <td>1.5</td>\n",
       "      <td>18</td>\n",
       "      <td>1</td>\n",
       "      <td>Departments of Motor Vehicles;Public Services ...</td>\n",
       "    </tr>\n",
       "  </tbody>\n",
       "</table>\n",
       "</div>"
      ],
      "text/plain": [
       "              business_id                     name neighborhood  \\\n",
       "0  FYWN1wneV18bWNgQjJ2GNg       \"Dental by Design\"          NaN   \n",
       "1  He-G7vWjzVUysIKrfNbPUQ    \"Stephen Szabo Salon\"          NaN   \n",
       "2  KQPW8lFf1y5BT2MxiSZ3QA  \"Western Motor Vehicle\"          NaN   \n",
       "\n",
       "                      address       city state postal_code   latitude  \\\n",
       "0  \"4855 E Warner Rd, Ste B9\"  Ahwatukee    AZ       85044  33.330690   \n",
       "1        \"3101 Washington Rd\"   McMurray    PA       15317  40.291685   \n",
       "2    \"6025 N 27th Ave, Ste 1\"    Phoenix    AZ       85017  33.524903   \n",
       "\n",
       "    longitude  stars  review_count  is_open  \\\n",
       "0 -111.978599    4.0            22        1   \n",
       "1  -80.104900    3.0            11        1   \n",
       "2 -112.115310    1.5            18        1   \n",
       "\n",
       "                                          categories  \n",
       "0  Dentists;General Dentistry;Health & Medical;Or...  \n",
       "1  Hair Stylists;Hair Salons;Men's Hair Salons;Bl...  \n",
       "2  Departments of Motor Vehicles;Public Services ...  "
      ]
     },
     "execution_count": 22,
     "metadata": {},
     "output_type": "execute_result"
    }
   ],
   "source": [
    "df_yelp_business.head(3)"
   ]
  },
  {
   "cell_type": "code",
   "execution_count": 23,
   "id": "b8ac333a-1953-4513-82aa-20615c254df2",
   "metadata": {},
   "outputs": [
    {
     "data": {
      "text/plain": [
       "(174567, 13)"
      ]
     },
     "execution_count": 23,
     "metadata": {},
     "output_type": "execute_result"
    }
   ],
   "source": [
    "df_yelp_business.shape"
   ]
  },
  {
   "cell_type": "code",
   "execution_count": 24,
   "id": "fab16ec7-7d22-4010-8dbc-729c115810ad",
   "metadata": {},
   "outputs": [
    {
     "data": {
      "text/html": [
       "<div>\n",
       "<style scoped>\n",
       "    .dataframe tbody tr th:only-of-type {\n",
       "        vertical-align: middle;\n",
       "    }\n",
       "\n",
       "    .dataframe tbody tr th {\n",
       "        vertical-align: top;\n",
       "    }\n",
       "\n",
       "    .dataframe thead th {\n",
       "        text-align: right;\n",
       "    }\n",
       "</style>\n",
       "<table border=\"1\" class=\"dataframe\">\n",
       "  <thead>\n",
       "    <tr style=\"text-align: right;\">\n",
       "      <th></th>\n",
       "      <th>review_id</th>\n",
       "      <th>user_id</th>\n",
       "      <th>business_id</th>\n",
       "      <th>stars</th>\n",
       "      <th>date</th>\n",
       "      <th>text</th>\n",
       "      <th>useful</th>\n",
       "      <th>funny</th>\n",
       "      <th>cool</th>\n",
       "    </tr>\n",
       "  </thead>\n",
       "  <tbody>\n",
       "    <tr>\n",
       "      <th>0</th>\n",
       "      <td>vkVSCC7xljjrAI4UGfnKEQ</td>\n",
       "      <td>bv2nCi5Qv5vroFiqKGopiw</td>\n",
       "      <td>AEx2SYEUJmTxVVB18LlCwA</td>\n",
       "      <td>5</td>\n",
       "      <td>2016-05-28</td>\n",
       "      <td>Super simple place but amazing nonetheless. It...</td>\n",
       "      <td>0</td>\n",
       "      <td>0</td>\n",
       "      <td>0</td>\n",
       "    </tr>\n",
       "    <tr>\n",
       "      <th>1</th>\n",
       "      <td>n6QzIUObkYshz4dz2QRJTw</td>\n",
       "      <td>bv2nCi5Qv5vroFiqKGopiw</td>\n",
       "      <td>VR6GpWIda3SfvPC-lg9H3w</td>\n",
       "      <td>5</td>\n",
       "      <td>2016-05-28</td>\n",
       "      <td>Small unassuming place that changes their menu...</td>\n",
       "      <td>0</td>\n",
       "      <td>0</td>\n",
       "      <td>0</td>\n",
       "    </tr>\n",
       "    <tr>\n",
       "      <th>2</th>\n",
       "      <td>MV3CcKScW05u5LVfF6ok0g</td>\n",
       "      <td>bv2nCi5Qv5vroFiqKGopiw</td>\n",
       "      <td>CKC0-MOWMqoeWf6s-szl8g</td>\n",
       "      <td>5</td>\n",
       "      <td>2016-05-28</td>\n",
       "      <td>Lester's is located in a beautiful neighborhoo...</td>\n",
       "      <td>0</td>\n",
       "      <td>0</td>\n",
       "      <td>0</td>\n",
       "    </tr>\n",
       "  </tbody>\n",
       "</table>\n",
       "</div>"
      ],
      "text/plain": [
       "                review_id                 user_id             business_id  \\\n",
       "0  vkVSCC7xljjrAI4UGfnKEQ  bv2nCi5Qv5vroFiqKGopiw  AEx2SYEUJmTxVVB18LlCwA   \n",
       "1  n6QzIUObkYshz4dz2QRJTw  bv2nCi5Qv5vroFiqKGopiw  VR6GpWIda3SfvPC-lg9H3w   \n",
       "2  MV3CcKScW05u5LVfF6ok0g  bv2nCi5Qv5vroFiqKGopiw  CKC0-MOWMqoeWf6s-szl8g   \n",
       "\n",
       "   stars        date                                               text  \\\n",
       "0      5  2016-05-28  Super simple place but amazing nonetheless. It...   \n",
       "1      5  2016-05-28  Small unassuming place that changes their menu...   \n",
       "2      5  2016-05-28  Lester's is located in a beautiful neighborhoo...   \n",
       "\n",
       "   useful  funny  cool  \n",
       "0       0      0     0  \n",
       "1       0      0     0  \n",
       "2       0      0     0  "
      ]
     },
     "execution_count": 24,
     "metadata": {},
     "output_type": "execute_result"
    }
   ],
   "source": [
    "df_yelp_review.head(3)"
   ]
  },
  {
   "cell_type": "code",
   "execution_count": 25,
   "id": "46e35f17-c735-4a42-8b59-bef9cc8eefe0",
   "metadata": {},
   "outputs": [
    {
     "data": {
      "text/plain": [
       "(5261668, 9)"
      ]
     },
     "execution_count": 25,
     "metadata": {},
     "output_type": "execute_result"
    }
   ],
   "source": [
    "df_yelp_review.shape"
   ]
  },
  {
   "cell_type": "code",
   "execution_count": 26,
   "id": "96901790-a3bd-4876-a2c3-1cda54d04909",
   "metadata": {},
   "outputs": [
    {
     "data": {
      "text/html": [
       "<div>\n",
       "<style scoped>\n",
       "    .dataframe tbody tr th:only-of-type {\n",
       "        vertical-align: middle;\n",
       "    }\n",
       "\n",
       "    .dataframe tbody tr th {\n",
       "        vertical-align: top;\n",
       "    }\n",
       "\n",
       "    .dataframe thead th {\n",
       "        text-align: right;\n",
       "    }\n",
       "</style>\n",
       "<table border=\"1\" class=\"dataframe\">\n",
       "  <thead>\n",
       "    <tr style=\"text-align: right;\">\n",
       "      <th></th>\n",
       "      <th>review_id</th>\n",
       "      <th>user_id</th>\n",
       "      <th>business_id</th>\n",
       "      <th>stars_x</th>\n",
       "      <th>date</th>\n",
       "      <th>text</th>\n",
       "      <th>useful</th>\n",
       "      <th>funny</th>\n",
       "      <th>cool</th>\n",
       "      <th>name</th>\n",
       "      <th>...</th>\n",
       "      <th>address</th>\n",
       "      <th>city</th>\n",
       "      <th>state</th>\n",
       "      <th>postal_code</th>\n",
       "      <th>latitude</th>\n",
       "      <th>longitude</th>\n",
       "      <th>stars_y</th>\n",
       "      <th>review_count</th>\n",
       "      <th>is_open</th>\n",
       "      <th>categories</th>\n",
       "    </tr>\n",
       "  </thead>\n",
       "  <tbody>\n",
       "    <tr>\n",
       "      <th>0</th>\n",
       "      <td>vkVSCC7xljjrAI4UGfnKEQ</td>\n",
       "      <td>bv2nCi5Qv5vroFiqKGopiw</td>\n",
       "      <td>AEx2SYEUJmTxVVB18LlCwA</td>\n",
       "      <td>5</td>\n",
       "      <td>2016-05-28</td>\n",
       "      <td>Super simple place but amazing nonetheless. It...</td>\n",
       "      <td>0</td>\n",
       "      <td>0</td>\n",
       "      <td>0</td>\n",
       "      <td>\"Wilensky's\"</td>\n",
       "      <td>...</td>\n",
       "      <td>\"34 Avenue Fairmount Ouest\"</td>\n",
       "      <td>Montréal</td>\n",
       "      <td>QC</td>\n",
       "      <td>H2T 2M1</td>\n",
       "      <td>45.523333</td>\n",
       "      <td>-73.594859</td>\n",
       "      <td>4.0</td>\n",
       "      <td>84</td>\n",
       "      <td>1</td>\n",
       "      <td>Diners;Food;Restaurants;Delis</td>\n",
       "    </tr>\n",
       "    <tr>\n",
       "      <th>1</th>\n",
       "      <td>n6QzIUObkYshz4dz2QRJTw</td>\n",
       "      <td>bv2nCi5Qv5vroFiqKGopiw</td>\n",
       "      <td>VR6GpWIda3SfvPC-lg9H3w</td>\n",
       "      <td>5</td>\n",
       "      <td>2016-05-28</td>\n",
       "      <td>Small unassuming place that changes their menu...</td>\n",
       "      <td>0</td>\n",
       "      <td>0</td>\n",
       "      <td>0</td>\n",
       "      <td>\"Tuck Shop\"</td>\n",
       "      <td>...</td>\n",
       "      <td>\"4662 Rue Notre-Dame O\"</td>\n",
       "      <td>Montréal</td>\n",
       "      <td>QC</td>\n",
       "      <td>H4C 1S7</td>\n",
       "      <td>45.472902</td>\n",
       "      <td>-73.588321</td>\n",
       "      <td>4.5</td>\n",
       "      <td>50</td>\n",
       "      <td>1</td>\n",
       "      <td>Restaurants;Canadian (New);Italian</td>\n",
       "    </tr>\n",
       "    <tr>\n",
       "      <th>2</th>\n",
       "      <td>MV3CcKScW05u5LVfF6ok0g</td>\n",
       "      <td>bv2nCi5Qv5vroFiqKGopiw</td>\n",
       "      <td>CKC0-MOWMqoeWf6s-szl8g</td>\n",
       "      <td>5</td>\n",
       "      <td>2016-05-28</td>\n",
       "      <td>Lester's is located in a beautiful neighborhoo...</td>\n",
       "      <td>0</td>\n",
       "      <td>0</td>\n",
       "      <td>0</td>\n",
       "      <td>\"Lester's Deli\"</td>\n",
       "      <td>...</td>\n",
       "      <td>\"1057 Avenue Bernard\"</td>\n",
       "      <td>Outremont</td>\n",
       "      <td>QC</td>\n",
       "      <td>H2V 1V1</td>\n",
       "      <td>45.522144</td>\n",
       "      <td>-73.607076</td>\n",
       "      <td>4.0</td>\n",
       "      <td>70</td>\n",
       "      <td>1</td>\n",
       "      <td>Specialty Food;Food;Sandwiches;Restaurants;Bur...</td>\n",
       "    </tr>\n",
       "  </tbody>\n",
       "</table>\n",
       "<p>3 rows × 21 columns</p>\n",
       "</div>"
      ],
      "text/plain": [
       "                review_id                 user_id             business_id  \\\n",
       "0  vkVSCC7xljjrAI4UGfnKEQ  bv2nCi5Qv5vroFiqKGopiw  AEx2SYEUJmTxVVB18LlCwA   \n",
       "1  n6QzIUObkYshz4dz2QRJTw  bv2nCi5Qv5vroFiqKGopiw  VR6GpWIda3SfvPC-lg9H3w   \n",
       "2  MV3CcKScW05u5LVfF6ok0g  bv2nCi5Qv5vroFiqKGopiw  CKC0-MOWMqoeWf6s-szl8g   \n",
       "\n",
       "   stars_x        date                                               text  \\\n",
       "0        5  2016-05-28  Super simple place but amazing nonetheless. It...   \n",
       "1        5  2016-05-28  Small unassuming place that changes their menu...   \n",
       "2        5  2016-05-28  Lester's is located in a beautiful neighborhoo...   \n",
       "\n",
       "   useful  funny  cool             name  ...                      address  \\\n",
       "0       0      0     0     \"Wilensky's\"  ...  \"34 Avenue Fairmount Ouest\"   \n",
       "1       0      0     0      \"Tuck Shop\"  ...      \"4662 Rue Notre-Dame O\"   \n",
       "2       0      0     0  \"Lester's Deli\"  ...        \"1057 Avenue Bernard\"   \n",
       "\n",
       "        city state postal_code   latitude  longitude  stars_y  review_count  \\\n",
       "0   Montréal    QC     H2T 2M1  45.523333 -73.594859      4.0            84   \n",
       "1   Montréal    QC     H4C 1S7  45.472902 -73.588321      4.5            50   \n",
       "2  Outremont    QC     H2V 1V1  45.522144 -73.607076      4.0            70   \n",
       "\n",
       "   is_open                                         categories  \n",
       "0        1                      Diners;Food;Restaurants;Delis  \n",
       "1        1                 Restaurants;Canadian (New);Italian  \n",
       "2        1  Specialty Food;Food;Sandwiches;Restaurants;Bur...  \n",
       "\n",
       "[3 rows x 21 columns]"
      ]
     },
     "execution_count": 26,
     "metadata": {},
     "output_type": "execute_result"
    }
   ],
   "source": [
    "# combine datasets based on the business_id\n",
    "df_combined = pd.merge(df_yelp_review, df_yelp_business, on='business_id', how='inner')\n",
    "df_combined.head(3)"
   ]
  },
  {
   "cell_type": "code",
   "execution_count": 27,
   "id": "c79fcbad-d93e-426b-8148-337657c12ff2",
   "metadata": {},
   "outputs": [
    {
     "data": {
      "text/plain": [
       "(5261668, 21)"
      ]
     },
     "execution_count": 27,
     "metadata": {},
     "output_type": "execute_result"
    }
   ],
   "source": [
    "df_combined.shape"
   ]
  },
  {
   "cell_type": "code",
   "execution_count": 28,
   "id": "3da7ed41-2f9f-42cd-a35f-95db0b064f7c",
   "metadata": {},
   "outputs": [
    {
     "data": {
      "text/html": [
       "<div>\n",
       "<style scoped>\n",
       "    .dataframe tbody tr th:only-of-type {\n",
       "        vertical-align: middle;\n",
       "    }\n",
       "\n",
       "    .dataframe tbody tr th {\n",
       "        vertical-align: top;\n",
       "    }\n",
       "\n",
       "    .dataframe thead th {\n",
       "        text-align: right;\n",
       "    }\n",
       "</style>\n",
       "<table border=\"1\" class=\"dataframe\">\n",
       "  <thead>\n",
       "    <tr style=\"text-align: right;\">\n",
       "      <th></th>\n",
       "      <th>review_id</th>\n",
       "      <th>business_id</th>\n",
       "      <th>stars_x</th>\n",
       "      <th>date</th>\n",
       "      <th>text</th>\n",
       "      <th>name</th>\n",
       "      <th>city</th>\n",
       "      <th>state</th>\n",
       "      <th>postal_code</th>\n",
       "      <th>latitude</th>\n",
       "      <th>longitude</th>\n",
       "      <th>stars_y</th>\n",
       "      <th>review_count</th>\n",
       "    </tr>\n",
       "  </thead>\n",
       "  <tbody>\n",
       "    <tr>\n",
       "      <th>0</th>\n",
       "      <td>vkVSCC7xljjrAI4UGfnKEQ</td>\n",
       "      <td>AEx2SYEUJmTxVVB18LlCwA</td>\n",
       "      <td>5</td>\n",
       "      <td>2016-05-28</td>\n",
       "      <td>Super simple place but amazing nonetheless. It...</td>\n",
       "      <td>\"Wilensky's\"</td>\n",
       "      <td>Montréal</td>\n",
       "      <td>QC</td>\n",
       "      <td>H2T 2M1</td>\n",
       "      <td>45.523333</td>\n",
       "      <td>-73.594859</td>\n",
       "      <td>4.0</td>\n",
       "      <td>84</td>\n",
       "    </tr>\n",
       "    <tr>\n",
       "      <th>1</th>\n",
       "      <td>n6QzIUObkYshz4dz2QRJTw</td>\n",
       "      <td>VR6GpWIda3SfvPC-lg9H3w</td>\n",
       "      <td>5</td>\n",
       "      <td>2016-05-28</td>\n",
       "      <td>Small unassuming place that changes their menu...</td>\n",
       "      <td>\"Tuck Shop\"</td>\n",
       "      <td>Montréal</td>\n",
       "      <td>QC</td>\n",
       "      <td>H4C 1S7</td>\n",
       "      <td>45.472902</td>\n",
       "      <td>-73.588321</td>\n",
       "      <td>4.5</td>\n",
       "      <td>50</td>\n",
       "    </tr>\n",
       "    <tr>\n",
       "      <th>2</th>\n",
       "      <td>MV3CcKScW05u5LVfF6ok0g</td>\n",
       "      <td>CKC0-MOWMqoeWf6s-szl8g</td>\n",
       "      <td>5</td>\n",
       "      <td>2016-05-28</td>\n",
       "      <td>Lester's is located in a beautiful neighborhoo...</td>\n",
       "      <td>\"Lester's Deli\"</td>\n",
       "      <td>Outremont</td>\n",
       "      <td>QC</td>\n",
       "      <td>H2V 1V1</td>\n",
       "      <td>45.522144</td>\n",
       "      <td>-73.607076</td>\n",
       "      <td>4.0</td>\n",
       "      <td>70</td>\n",
       "    </tr>\n",
       "  </tbody>\n",
       "</table>\n",
       "</div>"
      ],
      "text/plain": [
       "                review_id             business_id  stars_x        date  \\\n",
       "0  vkVSCC7xljjrAI4UGfnKEQ  AEx2SYEUJmTxVVB18LlCwA        5  2016-05-28   \n",
       "1  n6QzIUObkYshz4dz2QRJTw  VR6GpWIda3SfvPC-lg9H3w        5  2016-05-28   \n",
       "2  MV3CcKScW05u5LVfF6ok0g  CKC0-MOWMqoeWf6s-szl8g        5  2016-05-28   \n",
       "\n",
       "                                                text             name  \\\n",
       "0  Super simple place but amazing nonetheless. It...     \"Wilensky's\"   \n",
       "1  Small unassuming place that changes their menu...      \"Tuck Shop\"   \n",
       "2  Lester's is located in a beautiful neighborhoo...  \"Lester's Deli\"   \n",
       "\n",
       "        city state postal_code   latitude  longitude  stars_y  review_count  \n",
       "0   Montréal    QC     H2T 2M1  45.523333 -73.594859      4.0            84  \n",
       "1   Montréal    QC     H4C 1S7  45.472902 -73.588321      4.5            50  \n",
       "2  Outremont    QC     H2V 1V1  45.522144 -73.607076      4.0            70  "
      ]
     },
     "execution_count": 28,
     "metadata": {},
     "output_type": "execute_result"
    }
   ],
   "source": [
    "# remove unnecessary columns\n",
    "\n",
    "columns_to_remove = ['user_id', 'useful', 'funny', 'cool', 'address', 'is_open', 'categories', 'neighborhood']\n",
    "df_cleaned = df_combined.drop(columns=columns_to_remove)\n",
    "df_cleaned.head(3)"
   ]
  },
  {
   "cell_type": "code",
   "execution_count": 29,
   "id": "869b3eac-3d8b-4b15-b456-c9d8db7440a8",
   "metadata": {},
   "outputs": [
    {
     "data": {
      "text/plain": [
       "(52617, 13)"
      ]
     },
     "execution_count": 29,
     "metadata": {},
     "output_type": "execute_result"
    }
   ],
   "source": [
    "# randomly sample data to reduce size\n",
    "\n",
    "sample_fraction = 0.01 \n",
    "df_sampled = df_cleaned.sample(frac=sample_fraction, random_state=1)\n",
    "\n",
    "# should be over 50,000 samples\n",
    "df_sampled.shape"
   ]
  },
  {
   "cell_type": "markdown",
   "id": "61756806-05d1-4b68-a996-8c6f6e45d08f",
   "metadata": {},
   "source": [
    "### Applying TF-IDF Vectorizer"
   ]
  },
  {
   "cell_type": "code",
   "execution_count": 60,
   "id": "2f4ebe1d-714c-4414-afb7-f627e1617f54",
   "metadata": {},
   "outputs": [
    {
     "data": {
      "text/html": [
       "<div>\n",
       "<style scoped>\n",
       "    .dataframe tbody tr th:only-of-type {\n",
       "        vertical-align: middle;\n",
       "    }\n",
       "\n",
       "    .dataframe tbody tr th {\n",
       "        vertical-align: top;\n",
       "    }\n",
       "\n",
       "    .dataframe thead th {\n",
       "        text-align: right;\n",
       "    }\n",
       "</style>\n",
       "<table border=\"1\" class=\"dataframe\">\n",
       "  <thead>\n",
       "    <tr style=\"text-align: right;\">\n",
       "      <th></th>\n",
       "      <th>review_id</th>\n",
       "      <th>business_id</th>\n",
       "      <th>stars_x</th>\n",
       "      <th>date</th>\n",
       "      <th>text</th>\n",
       "      <th>name</th>\n",
       "      <th>city</th>\n",
       "      <th>state</th>\n",
       "      <th>postal_code</th>\n",
       "      <th>latitude</th>\n",
       "      <th>longitude</th>\n",
       "      <th>stars_y</th>\n",
       "      <th>review_count</th>\n",
       "    </tr>\n",
       "  </thead>\n",
       "  <tbody>\n",
       "    <tr>\n",
       "      <th>3931331</th>\n",
       "      <td>I6xTlLkMn2fQV0H46O25uQ</td>\n",
       "      <td>LiSt3sVWELm7nfVIKJs0MA</td>\n",
       "      <td>2</td>\n",
       "      <td>2017-08-02</td>\n",
       "      <td>my office is close so we have been there a few...</td>\n",
       "      <td>\"Parasson's Italian Restaurants\"</td>\n",
       "      <td>Stow</td>\n",
       "      <td>OH</td>\n",
       "      <td>44224</td>\n",
       "      <td>41.173316</td>\n",
       "      <td>-81.439726</td>\n",
       "      <td>3.0</td>\n",
       "      <td>41</td>\n",
       "    </tr>\n",
       "    <tr>\n",
       "      <th>3004306</th>\n",
       "      <td>1FJPW9lB3rvw_2fEgrxjyg</td>\n",
       "      <td>6aDfalYZOkWzwtVRA2wYaA</td>\n",
       "      <td>4</td>\n",
       "      <td>2014-01-30</td>\n",
       "      <td>good food great naan fair prices it is a hole ...</td>\n",
       "      <td>\"Z-Grill\"</td>\n",
       "      <td>Phoenix</td>\n",
       "      <td>AZ</td>\n",
       "      <td>85008</td>\n",
       "      <td>33.466978</td>\n",
       "      <td>-111.995925</td>\n",
       "      <td>4.5</td>\n",
       "      <td>21</td>\n",
       "    </tr>\n",
       "    <tr>\n",
       "      <th>1522757</th>\n",
       "      <td>BVMQPEUd-xqxCYEA44KVYQ</td>\n",
       "      <td>L2iT7pipc455Tgpbo35_mw</td>\n",
       "      <td>2</td>\n",
       "      <td>2017-05-22</td>\n",
       "      <td>casa was once one of my favorite places in all...</td>\n",
       "      <td>\"CASA Sunbá\"</td>\n",
       "      <td>Tempe</td>\n",
       "      <td>AZ</td>\n",
       "      <td>85281</td>\n",
       "      <td>33.424337</td>\n",
       "      <td>-111.939422</td>\n",
       "      <td>3.0</td>\n",
       "      <td>220</td>\n",
       "    </tr>\n",
       "  </tbody>\n",
       "</table>\n",
       "</div>"
      ],
      "text/plain": [
       "                      review_id             business_id  stars_x        date  \\\n",
       "3931331  I6xTlLkMn2fQV0H46O25uQ  LiSt3sVWELm7nfVIKJs0MA        2  2017-08-02   \n",
       "3004306  1FJPW9lB3rvw_2fEgrxjyg  6aDfalYZOkWzwtVRA2wYaA        4  2014-01-30   \n",
       "1522757  BVMQPEUd-xqxCYEA44KVYQ  L2iT7pipc455Tgpbo35_mw        2  2017-05-22   \n",
       "\n",
       "                                                      text  \\\n",
       "3931331  my office is close so we have been there a few...   \n",
       "3004306  good food great naan fair prices it is a hole ...   \n",
       "1522757  casa was once one of my favorite places in all...   \n",
       "\n",
       "                                     name     city state postal_code  \\\n",
       "3931331  \"Parasson's Italian Restaurants\"     Stow    OH       44224   \n",
       "3004306                         \"Z-Grill\"  Phoenix    AZ       85008   \n",
       "1522757                      \"CASA Sunbá\"    Tempe    AZ       85281   \n",
       "\n",
       "          latitude   longitude  stars_y  review_count  \n",
       "3931331  41.173316  -81.439726      3.0            41  \n",
       "3004306  33.466978 -111.995925      4.5            21  \n",
       "1522757  33.424337 -111.939422      3.0           220  "
      ]
     },
     "execution_count": 60,
     "metadata": {},
     "output_type": "execute_result"
    }
   ],
   "source": [
    "# preprocessing text data\n",
    "\n",
    "# convert to lowercase\n",
    "df_sampled['text'] = df_sampled['text'].str.lower() \n",
    "\n",
    "# remove punctuation\n",
    "df_sampled['text'] = df_sampled['text'].str.replace(r'[^\\w\\s]', '', regex=True)\n",
    "\n",
    "df_sampled.head(3)"
   ]
  },
  {
   "cell_type": "code",
   "execution_count": 66,
   "id": "1f7d1e7c-fea9-4bfa-afc0-1ce9c1ae1842",
   "metadata": {},
   "outputs": [
    {
     "data": {
      "text/plain": [
       "array([0, 1, 0, ..., 1, 1, 1])"
      ]
     },
     "execution_count": 66,
     "metadata": {},
     "output_type": "execute_result"
    }
   ],
   "source": [
    "# vectorize text data using fitted TF-IDF vectorizer\n",
    "sample_tfidf_vectors = tfidf_vectorizer.transform(df_sampled['text'])\n",
    "\n",
    "\n",
    "# predict sentiment labels\n",
    "predicted_labels = lr_tfidf.predict(sample_tfidf_vectors)\n",
    "predicted_labels"
   ]
  },
  {
   "cell_type": "code",
   "execution_count": 74,
   "id": "17e1f1fa-ce83-4135-9f45-9ed91aad447a",
   "metadata": {},
   "outputs": [
    {
     "name": "stdout",
     "output_type": "stream",
     "text": [
      "                                                      text predicted_sentiment\n",
      "3931331  my office is close so we have been there a few...            negative\n",
      "3004306  good food great naan fair prices it is a hole ...            positive\n",
      "1522757  casa was once one of my favorite places in all...            negative\n",
      "4393846  nothing comes close to this place if you enjoy...            positive\n",
      "895309   really enjoyed going here for dinner  i had fi...            positive\n",
      "4945819  love this place the margaritas are really good...            positive\n",
      "4667888  delicious dates wrapped with bacon i love thei...            positive\n",
      "3101461  this sylist literally thought rubbing my hair ...            negative\n",
      "646928   i would never stay here by choice  it was one ...            negative\n",
      "3368693  love dr weisner and his staff i have a little ...            positive\n"
     ]
    }
   ],
   "source": [
    "# store predictions in the DF \n",
    "df_sampled['predicted_sentiment'] = ['positive' if label == 1 else 'negative' for label in predicted_labels]\n",
    "\n",
    "print(df_sampled[['text', 'predicted_sentiment']].head(10))"
   ]
  },
  {
   "cell_type": "markdown",
   "id": "565db28c-fe5f-4b3c-8798-a9302bec7bd2",
   "metadata": {},
   "source": [
    "### Further Analysis"
   ]
  },
  {
   "cell_type": "code",
   "execution_count": 100,
   "id": "56badb15-5760-4ee3-88e4-d007019624ae",
   "metadata": {},
   "outputs": [
    {
     "name": "stdout",
     "output_type": "stream",
     "text": [
      "         stars_x true_sentiment\n",
      "3931331        2       negative\n",
      "3004306        4       positive\n",
      "1522757        2       negative\n",
      "4393846        5       positive\n",
      "895309         4       positive\n",
      "4945819        5       positive\n",
      "4667888        4       positive\n",
      "3101461        2       negative\n",
      "646928         2       negative\n",
      "3368693        5       positive\n"
     ]
    }
   ],
   "source": [
    "# map star ratings to sentiment labels\n",
    "def map_stars_to_sentiment(stars):\n",
    "    if stars >= 3:\n",
    "        return 'positive'\n",
    "    elif stars <= 2:\n",
    "        return 'negative'\n",
    "\n",
    "# create a new column for true sentiment\n",
    "df_sampled['true_sentiment'] = df_sampled['stars_x'].apply(map_stars_to_sentiment)\n",
    "\n",
    "print(df_sampled[['stars_x', 'true_sentiment']].head(10))"
   ]
  },
  {
   "cell_type": "code",
   "execution_count": 109,
   "id": "b82ccac5-7b19-486d-a636-ddf1fd09f0cf",
   "metadata": {},
   "outputs": [
    {
     "name": "stdout",
     "output_type": "stream",
     "text": [
      "Confusion Matrix:\n",
      " [[37096  3942]\n",
      " [ 2272  9307]]\n"
     ]
    },
    {
     "data": {
      "image/png": "[encoded data removed]",
      "text/plain": [
       "<Figure size 800x600 with 2 Axes>"
      ]
     },
     "metadata": {},
     "output_type": "display_data"
    }
   ],
   "source": [
    "from sklearn.metrics import classification_report\n",
    "\n",
    "# calculate confusion matrix\n",
    "cm = confusion_matrix(df_sampled['true_sentiment'], df_sampled['predicted_sentiment'], labels=['positive', 'negative'])\n",
    "print(\"Confusion Matrix:\\n\", cm)\n",
    "\n",
    "plt.figure(figsize=(8, 6))\n",
    "sns.heatmap(cm, annot=True, fmt='d', cmap='Blues', xticklabels=['Positive', 'Negative'], yticklabels=['Positive', 'Negative'])\n",
    "plt.ylabel('Actual')\n",
    "plt.xlabel('Predicted')\n",
    "plt.title('Confusion Matrix')\n",
    "plt.show()"
   ]
  },
  {
   "cell_type": "code",
   "execution_count": 111,
   "id": "b60ec1b8-de74-43ad-9a9f-76cd454c2c75",
   "metadata": {},
   "outputs": [
    {
     "name": "stdout",
     "output_type": "stream",
     "text": [
      "              precision    recall  f1-score   support\n",
      "\n",
      "    negative       0.70      0.80      0.75     11579\n",
      "    positive       0.94      0.90      0.92     41038\n",
      "\n",
      "    accuracy                           0.88     52617\n",
      "   macro avg       0.82      0.85      0.84     52617\n",
      "weighted avg       0.89      0.88      0.88     52617\n",
      "\n"
     ]
    }
   ],
   "source": [
    "# classification report\n",
    "print(classification_report(df_sampled['true_sentiment'], df_sampled['predicted_sentiment']))"
   ]
  },
  {
   "cell_type": "markdown",
   "id": "9ed919c8-810c-40ff-adfc-d03a24f22ec3",
   "metadata": {},
   "source": [
    "This model performs very well for positive reviews with high precision, recall, and F1-scores. It's a really useful model if someone is trying to identify positive reviews across different domains. The performance for the negative class is a bit lower with a precision of only 70% and an F1-score of 75%. This may be due to the random sampling and class weighting for the data or how I chose to classify the star ratings as either positive or negative. "
   ]
  }
 ],
 "metadata": {
  "kernelspec": {
   "display_name": "Python 3 (ipykernel)",
   "language": "python",
   "name": "python3"
  },
  "language_info": {
   "codemirror_mode": {
    "name": "ipython",
    "version": 3
   },
   "file_extension": ".py",
   "mimetype": "text/x-python",
   "name": "python",
   "nbconvert_exporter": "python",
   "pygments_lexer": "ipython3",
   "version": "3.12.7"
  }
 },
 "nbformat": 4,
 "nbformat_minor": 5
}
